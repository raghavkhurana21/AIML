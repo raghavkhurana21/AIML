{
 "cells": [
  {
   "cell_type": "markdown",
   "metadata": {},
   "source": [
    "<a href='https://www.hexnbit.com/'> <img src='https://www.hexnbit.com/wp-content/uploads/2019/09/hexnbit_final_66px.png'/> </a>"
   ]
  },
  {
   "cell_type": "markdown",
   "metadata": {},
   "source": [
    "# Assignment"
   ]
  },
  {
   "cell_type": "markdown",
   "metadata": {},
   "source": [
    "Mentioned below are the tasks, the solution for each tasks has to be appended by inserting a new cell below the task,\n",
    "along with the following description:-\n",
    "1. Why the method was used (if applicable)\n",
    "2. Explanation of logic"
   ]
  },
  {
   "cell_type": "markdown",
   "metadata": {},
   "source": [
    "### Task 1\n",
    "- Generate integer between (100 to 200) using while loop.\n",
    "- if i want number till 155"
   ]
  },
  {
   "cell_type": "code",
   "execution_count": 3,
   "metadata": {},
   "outputs": [
    {
     "name": "stdout",
     "output_type": "stream",
     "text": [
      "100\n",
      "101\n",
      "102\n",
      "103\n",
      "104\n",
      "105\n",
      "106\n",
      "107\n",
      "108\n",
      "109\n",
      "110\n",
      "111\n",
      "112\n",
      "113\n",
      "114\n",
      "115\n",
      "116\n",
      "117\n",
      "118\n",
      "119\n",
      "120\n",
      "121\n",
      "122\n",
      "123\n",
      "124\n",
      "125\n",
      "126\n",
      "127\n",
      "128\n",
      "129\n",
      "130\n",
      "131\n",
      "132\n",
      "133\n",
      "134\n",
      "135\n",
      "136\n",
      "137\n",
      "138\n",
      "139\n",
      "140\n",
      "141\n",
      "142\n",
      "143\n",
      "144\n",
      "145\n",
      "146\n",
      "147\n",
      "148\n",
      "149\n",
      "150\n",
      "151\n",
      "152\n",
      "153\n",
      "154\n",
      "155\n",
      "156\n",
      "157\n",
      "158\n",
      "159\n",
      "160\n",
      "161\n",
      "162\n",
      "163\n",
      "164\n",
      "165\n",
      "166\n",
      "167\n",
      "168\n",
      "169\n",
      "170\n",
      "171\n",
      "172\n",
      "173\n",
      "174\n",
      "175\n",
      "176\n",
      "177\n",
      "178\n",
      "179\n",
      "180\n",
      "181\n",
      "182\n",
      "183\n",
      "184\n",
      "185\n",
      "186\n",
      "187\n",
      "188\n",
      "189\n",
      "190\n",
      "191\n",
      "192\n",
      "193\n",
      "194\n",
      "195\n",
      "196\n",
      "197\n",
      "198\n",
      "199\n",
      "200\n"
     ]
    }
   ],
   "source": [
    "i=100\n",
    "while i <= 200:\n",
    "    print(i)\n",
    "    i+=1\n",
    "    "
   ]
  },
  {
   "cell_type": "code",
   "execution_count": 4,
   "metadata": {},
   "outputs": [
    {
     "name": "stdout",
     "output_type": "stream",
     "text": [
      "100\n",
      "101\n",
      "102\n",
      "103\n",
      "104\n",
      "105\n",
      "106\n",
      "107\n",
      "108\n",
      "109\n",
      "110\n",
      "111\n",
      "112\n",
      "113\n",
      "114\n",
      "115\n",
      "116\n",
      "117\n",
      "118\n",
      "119\n",
      "120\n",
      "121\n",
      "122\n",
      "123\n",
      "124\n",
      "125\n",
      "126\n",
      "127\n",
      "128\n",
      "129\n",
      "130\n",
      "131\n",
      "132\n",
      "133\n",
      "134\n",
      "135\n",
      "136\n",
      "137\n",
      "138\n",
      "139\n",
      "140\n",
      "141\n",
      "142\n",
      "143\n",
      "144\n",
      "145\n",
      "146\n",
      "147\n",
      "148\n",
      "149\n",
      "150\n",
      "151\n",
      "152\n",
      "153\n",
      "154\n",
      "155\n"
     ]
    }
   ],
   "source": [
    "i=100\n",
    "while i <= 155:\n",
    "    print(i)\n",
    "    i+=1\n",
    "    "
   ]
  },
  {
   "cell_type": "markdown",
   "metadata": {},
   "source": [
    "### Task 2\n",
    "Refer task 1 and print even and odd number."
   ]
  },
  {
   "cell_type": "code",
   "execution_count": 7,
   "metadata": {},
   "outputs": [
    {
     "name": "stdout",
     "output_type": "stream",
     "text": [
      "101\n",
      "103\n",
      "105\n",
      "107\n",
      "109\n",
      "111\n",
      "113\n",
      "115\n",
      "117\n",
      "119\n",
      "121\n",
      "123\n",
      "125\n",
      "127\n",
      "129\n",
      "131\n",
      "133\n",
      "135\n",
      "137\n",
      "139\n",
      "141\n",
      "143\n",
      "145\n",
      "147\n",
      "149\n",
      "151\n",
      "153\n",
      "155\n"
     ]
    }
   ],
   "source": [
    "# for printing odd no\n",
    "n = 100\n",
    " \n",
    "while n <= 155:\n",
    "    if(n % 2 != 0):\n",
    "        print(n)\n",
    "    n = n + 1\n",
    "    "
   ]
  },
  {
   "cell_type": "code",
   "execution_count": 8,
   "metadata": {},
   "outputs": [
    {
     "name": "stdout",
     "output_type": "stream",
     "text": [
      "100\n",
      "102\n",
      "104\n",
      "106\n",
      "108\n",
      "110\n",
      "112\n",
      "114\n",
      "116\n",
      "118\n",
      "120\n",
      "122\n",
      "124\n",
      "126\n",
      "128\n",
      "130\n",
      "132\n",
      "134\n",
      "136\n",
      "138\n",
      "140\n",
      "142\n",
      "144\n",
      "146\n",
      "148\n",
      "150\n",
      "152\n",
      "154\n"
     ]
    }
   ],
   "source": [
    "# for printing even no\n",
    "n = 100\n",
    " \n",
    "while n <= 155:\n",
    "    if(n % 2 == 0):\n",
    "        print(n)\n",
    "    n = n + 1"
   ]
  },
  {
   "cell_type": "markdown",
   "metadata": {},
   "source": [
    "### Task 3\n",
    "Take value from the user and Seprate them into Positive & negative number."
   ]
  },
  {
   "cell_type": "code",
   "execution_count": 6,
   "metadata": {},
   "outputs": [
    {
     "ename": "ValueError",
     "evalue": "invalid literal for int() with base 10: ''",
     "output_type": "error",
     "traceback": [
      "\u001b[1;31m---------------------------------------------------------------------------\u001b[0m",
      "\u001b[1;31mValueError\u001b[0m                                Traceback (most recent call last)",
      "\u001b[1;32mc:\\Users\\ASUS\\Downloads\\A1_Assignment-AIML.ipynb Cell 11\u001b[0m in \u001b[0;36m<cell line: 6>\u001b[1;34m()\u001b[0m\n\u001b[0;32m      <a href='vscode-notebook-cell:/c%3A/Users/ASUS/Downloads/A1_Assignment-AIML.ipynb#ch0000008?line=2'>3</a>\u001b[0m Negative \u001b[39m=\u001b[39m []\n\u001b[0;32m      <a href='vscode-notebook-cell:/c%3A/Users/ASUS/Downloads/A1_Assignment-AIML.ipynb#ch0000008?line=4'>5</a>\u001b[0m \u001b[39m# Take the Input From the User\u001b[39;00m\n\u001b[1;32m----> <a href='vscode-notebook-cell:/c%3A/Users/ASUS/Downloads/A1_Assignment-AIML.ipynb#ch0000008?line=5'>6</a>\u001b[0m Number \u001b[39m=\u001b[39m \u001b[39mint\u001b[39;49m(\u001b[39minput\u001b[39;49m(\u001b[39m\"\u001b[39;49m\u001b[39mEnter the Total Number of List Elements : \u001b[39;49m\u001b[39m\"\u001b[39;49m))\n\u001b[0;32m      <a href='vscode-notebook-cell:/c%3A/Users/ASUS/Downloads/A1_Assignment-AIML.ipynb#ch0000008?line=6'>7</a>\u001b[0m \u001b[39mfor\u001b[39;00m i \u001b[39min\u001b[39;00m \u001b[39mrange\u001b[39m(\u001b[39m1\u001b[39m, Number \u001b[39m+\u001b[39m \u001b[39m1\u001b[39m):\n\u001b[0;32m      <a href='vscode-notebook-cell:/c%3A/Users/ASUS/Downloads/A1_Assignment-AIML.ipynb#ch0000008?line=7'>8</a>\u001b[0m     value \u001b[39m=\u001b[39m \u001b[39mint\u001b[39m(\u001b[39minput\u001b[39m(\u001b[39m\"\u001b[39m\u001b[39mEnter the Value of \u001b[39m\u001b[39m%d\u001b[39;00m\u001b[39m Element: \u001b[39m\u001b[39m\"\u001b[39m \u001b[39m%\u001b[39mi))\n",
      "\u001b[1;31mValueError\u001b[0m: invalid literal for int() with base 10: ''"
     ]
    }
   ],
   "source": [
    "NumList = []\n",
    "Positive = []\n",
    "Negative = []\n",
    "\n",
    "# Take the Input From the User\n",
    "Number = int(input(\"Enter the Total Number of List Elements : \"))\n",
    "for i in range(1, Number + 1):\n",
    "    value = int(input(\"Enter the Value of %d Element: \" %i))\n",
    "    NumList.append(value)\n",
    "\n",
    "# Print the List\n",
    "print(\"\\nOriginal List: \",NumList)\n",
    "\n",
    "for j in range(Number):\n",
    "    if(NumList[j] >= 0):\n",
    "        Positive.append(NumList[j])\n",
    "    else:\n",
    "        Negative.append(NumList[j])\n",
    "\n",
    "print(\"\\nElement in Positive List is: \", Positive)\n",
    "print(\"Element in Negative List is: \", Negative)"
   ]
  },
  {
   "cell_type": "markdown",
   "metadata": {},
   "source": [
    "### Task 4\n",
    "thistuple = (\"apple\", \"banana\", \"cherry\", \"orange\", \"kiwi\", \"melon\", \"mango\")<br>Print thistuple in reverse format."
   ]
  },
  {
   "cell_type": "code",
   "execution_count": 7,
   "metadata": {},
   "outputs": [
    {
     "name": "stdout",
     "output_type": "stream",
     "text": [
      "('mango', 'melon', 'kiwi', 'orange', 'cherry', 'banana', 'apple')\n"
     ]
    }
   ],
   "source": [
    "thistuple = (\"apple\", \"banana\", \"cherry\", \"orange\", \"kiwi\", \"melon\", \"mango\")\n",
    "reverseformat = reversed(thistuple)\n",
    "reverseformat = tuple(reverseformat)\n",
    "print(reverseformat)"
   ]
  },
  {
   "cell_type": "markdown",
   "metadata": {},
   "source": [
    "### Task 5\n",
    "Calculate mean, median, mode and standard deviation of given list.<br>\n",
    "A=[2,5,6,9,7,3]<br>B=[2,5,3,2,8,3,2,1,9,4,2,5,6]<br>C=[1,1.5,2,2.5,3,3.5,4,5,6,4.5,5]"
   ]
  },
  {
   "cell_type": "code",
   "execution_count": 8,
   "metadata": {},
   "outputs": [
    {
     "name": "stdout",
     "output_type": "stream",
     "text": [
      "Mean / Average is: 5.333333333333333\n"
     ]
    }
   ],
   "source": [
    "# mean of elements\n",
    "\n",
    "n_num = [2,5,6,9,7,3]\n",
    "n = len(n_num)\n",
    "  \n",
    "get_sum = sum(n_num)\n",
    "mean = get_sum / n\n",
    "  \n",
    "print(\"Mean / Average is: \" + str(mean))"
   ]
  },
  {
   "cell_type": "code",
   "execution_count": 9,
   "metadata": {},
   "outputs": [
    {
     "name": "stdout",
     "output_type": "stream",
     "text": [
      "Median is: 3\n"
     ]
    }
   ],
   "source": [
    "# median of elements\n",
    "n_num = [2,5,3,2,8,3,2,1,9,4,2,5,6]\n",
    "n = len(n_num)\n",
    "n_num.sort()\n",
    "  \n",
    "if n % 2 == 0:\n",
    "    median1 = n_num[n//2]\n",
    "    median2 = n_num[n//2 - 1]\n",
    "    median = (median1 + median2)/2\n",
    "else:\n",
    "    median = n_num[n//2]\n",
    "print(\"Median is: \" + str(median))"
   ]
  },
  {
   "cell_type": "code",
   "execution_count": 10,
   "metadata": {},
   "outputs": [
    {
     "name": "stdout",
     "output_type": "stream",
     "text": [
      "Mode is / are: 5\n"
     ]
    }
   ],
   "source": [
    "# Python program to print\n",
    "from collections import Counter\n",
    "\n",
    "# list of elements to calculate mode\n",
    "n_num = [1,1.5,2,2.5,3,3.5,4,5,6,4.5,5]\n",
    "n = len(n_num)\n",
    "\n",
    "data = Counter(n_num)\n",
    "get_mode = dict(data)\n",
    "mode = [k for k, v in get_mode.items() if v == max(list(data.values()))]\n",
    "\n",
    "if len(mode) == n:\n",
    "\tget_mode = \"No mode found\"\n",
    "else:\n",
    "\tget_mode = \"Mode is / are: \" + ', '.join(map(str, mode))\n",
    "\t\n",
    "print(get_mode)"
   ]
  },
  {
   "cell_type": "markdown",
   "metadata": {},
   "source": [
    "### Task 6:\n",
    "- Write a program to find compound interest\n",
    "- A = P(1 + R/100) t\n",
    "\n",
    "    Compound Interest = A – P\n",
    "    Where,\n",
    "    \n",
    "    A is amount\n",
    "    \n",
    "    P is principle amount\n",
    "    \n",
    "    R is the rate and\n",
    "    \n",
    "    T is the time span"
   ]
  },
  {
   "cell_type": "code",
   "execution_count": 11,
   "metadata": {},
   "outputs": [
    {
     "name": "stdout",
     "output_type": "stream",
     "text": [
      "Compound interest is 7958.563260221294\n"
     ]
    }
   ],
   "source": [
    "\n",
    "\n",
    "def compound_interest(principle, r, t):\n",
    "    Amount = principle * (pow((1 + r / 100), t))\n",
    "    CI = Amount - principle\n",
    "    print(\"Compound interest is\", CI)\n",
    " \n",
    "\n",
    "compound_interest(10000, 10.25, 6)"
   ]
  },
  {
   "cell_type": "markdown",
   "metadata": {},
   "source": [
    "### Task 7:\n",
    "Write a Python program to sum all the items in a list.\n",
    "[2,3,4,-4,5,6,7,12]\n"
   ]
  },
  {
   "cell_type": "code",
   "execution_count": 12,
   "metadata": {},
   "outputs": [
    {
     "name": "stdout",
     "output_type": "stream",
     "text": [
      "35\n"
     ]
    }
   ],
   "source": [
    "def sum_list(items):\n",
    "    sum = 0\n",
    "    for x in items:\n",
    "        sum += x\n",
    "    return sum\n",
    "print(sum_list([2,3,4,-4,5,6,7,12]))"
   ]
  },
  {
   "cell_type": "markdown",
   "metadata": {},
   "source": [
    "### Task 8\n",
    "\n",
    "- A company decided to give bonus of 5% to employee if his/her year of service is more than 5 years.\n",
    "    Ask user for their salary and year of service and print the net bonus amount.\n"
   ]
  },
  {
   "cell_type": "code",
   "execution_count": 13,
   "metadata": {},
   "outputs": [
    {
     "ename": "ValueError",
     "evalue": "invalid literal for int() with base 10: ''",
     "output_type": "error",
     "traceback": [
      "\u001b[1;31m---------------------------------------------------------------------------\u001b[0m",
      "\u001b[1;31mValueError\u001b[0m                                Traceback (most recent call last)",
      "\u001b[1;32mc:\\Users\\ASUS\\Downloads\\A1_Assignment-AIML.ipynb Cell 23\u001b[0m in \u001b[0;36m<cell line: 1>\u001b[1;34m()\u001b[0m\n\u001b[1;32m----> <a href='vscode-notebook-cell:/c%3A/Users/ASUS/Downloads/A1_Assignment-AIML.ipynb#ch0000018?line=0'>1</a>\u001b[0m salary \u001b[39m=\u001b[39m \u001b[39mint\u001b[39;49m(\u001b[39minput\u001b[39;49m(\u001b[39m\"\u001b[39;49m\u001b[39mEnter your salary = \u001b[39;49m\u001b[39m\"\u001b[39;49m))\n\u001b[0;32m      <a href='vscode-notebook-cell:/c%3A/Users/ASUS/Downloads/A1_Assignment-AIML.ipynb#ch0000018?line=2'>3</a>\u001b[0m year \u001b[39m=\u001b[39m \u001b[39mint\u001b[39m(\u001b[39minput\u001b[39m(\u001b[39m\"\u001b[39m\u001b[39mEnter your year of service = \u001b[39m\u001b[39m\"\u001b[39m))\n\u001b[0;32m      <a href='vscode-notebook-cell:/c%3A/Users/ASUS/Downloads/A1_Assignment-AIML.ipynb#ch0000018?line=4'>5</a>\u001b[0m \u001b[39mif\u001b[39;00m year\u001b[39m>\u001b[39m\u001b[39m5\u001b[39m:\n",
      "\u001b[1;31mValueError\u001b[0m: invalid literal for int() with base 10: ''"
     ]
    }
   ],
   "source": [
    "salary = int(input(\"Enter your salary = \"))\n",
    "\n",
    "year = int(input(\"Enter your year of service = \"))\n",
    "\n",
    "if year>5:\n",
    "\n",
    "   print(\"Your Net bonus is\",0.05*salary)"
   ]
  },
  {
   "cell_type": "markdown",
   "metadata": {},
   "source": [
    "### Task 9:\n",
    "- Take values of length and breadth of a rectangle from user and check if it is square or not.\n",
    "- Take two int values from user and print greatest among them."
   ]
  },
  {
   "cell_type": "code",
   "execution_count": 14,
   "metadata": {},
   "outputs": [
    {
     "ename": "ValueError",
     "evalue": "invalid literal for int() with base 10: ''",
     "output_type": "error",
     "traceback": [
      "\u001b[1;31m---------------------------------------------------------------------------\u001b[0m",
      "\u001b[1;31mValueError\u001b[0m                                Traceback (most recent call last)",
      "\u001b[1;32mc:\\Users\\ASUS\\Downloads\\A1_Assignment-AIML.ipynb Cell 25\u001b[0m in \u001b[0;36m<cell line: 1>\u001b[1;34m()\u001b[0m\n\u001b[1;32m----> <a href='vscode-notebook-cell:/c%3A/Users/ASUS/Downloads/A1_Assignment-AIML.ipynb#ch0000020?line=0'>1</a>\u001b[0m a\u001b[39m=\u001b[39m\u001b[39mint\u001b[39;49m(\u001b[39minput\u001b[39;49m())\n\u001b[0;32m      <a href='vscode-notebook-cell:/c%3A/Users/ASUS/Downloads/A1_Assignment-AIML.ipynb#ch0000020?line=1'>2</a>\u001b[0m b\u001b[39m=\u001b[39m\u001b[39mint\u001b[39m(\u001b[39minput\u001b[39m())\n\u001b[0;32m      <a href='vscode-notebook-cell:/c%3A/Users/ASUS/Downloads/A1_Assignment-AIML.ipynb#ch0000020?line=2'>3</a>\u001b[0m \u001b[39mif\u001b[39;00m (a\u001b[39m==\u001b[39mb):\n",
      "\u001b[1;31mValueError\u001b[0m: invalid literal for int() with base 10: ''"
     ]
    }
   ],
   "source": [
    "a=int(input())\n",
    "b=int(input())\n",
    "if (a==b):\n",
    "  print(\"square\")\n",
    "else:\n",
    " print(\"not square\")"
   ]
  },
  {
   "cell_type": "code",
   "execution_count": 15,
   "metadata": {},
   "outputs": [
    {
     "ename": "ValueError",
     "evalue": "invalid literal for int() with base 10: ''",
     "output_type": "error",
     "traceback": [
      "\u001b[1;31m---------------------------------------------------------------------------\u001b[0m",
      "\u001b[1;31mValueError\u001b[0m                                Traceback (most recent call last)",
      "\u001b[1;32mc:\\Users\\ASUS\\Downloads\\A1_Assignment-AIML.ipynb Cell 26\u001b[0m in \u001b[0;36m<cell line: 1>\u001b[1;34m()\u001b[0m\n\u001b[1;32m----> <a href='vscode-notebook-cell:/c%3A/Users/ASUS/Downloads/A1_Assignment-AIML.ipynb#ch0000038?line=0'>1</a>\u001b[0m a \u001b[39m=\u001b[39m \u001b[39mint\u001b[39;49m(\u001b[39minput\u001b[39;49m(\u001b[39m\"\u001b[39;49m\u001b[39mEnter the First no: \u001b[39;49m\u001b[39m\"\u001b[39;49m))\n\u001b[0;32m      <a href='vscode-notebook-cell:/c%3A/Users/ASUS/Downloads/A1_Assignment-AIML.ipynb#ch0000038?line=1'>2</a>\u001b[0m b \u001b[39m=\u001b[39m \u001b[39mint\u001b[39m(\u001b[39minput\u001b[39m(\u001b[39m\"\u001b[39m\u001b[39mEnter the Second no: \u001b[39m\u001b[39m\"\u001b[39m))\n\u001b[0;32m      <a href='vscode-notebook-cell:/c%3A/Users/ASUS/Downloads/A1_Assignment-AIML.ipynb#ch0000038?line=3'>4</a>\u001b[0m \u001b[39mif\u001b[39;00m(a \u001b[39m>\u001b[39m b):\n",
      "\u001b[1;31mValueError\u001b[0m: invalid literal for int() with base 10: ''"
     ]
    }
   ],
   "source": [
    "a = int(input(\"Enter the First no: \"))\n",
    "b = int(input(\"Enter the Second no: \"))\n",
    "\n",
    "if(a > b):\n",
    "    print(\"{0} is Greater\".format(a))\n",
    "elif(b > a):\n",
    "    print(\"{0} is Greater\".format(b))\n",
    "else:\n",
    "    print(\"Both a and b are Equal\")"
   ]
  },
  {
   "cell_type": "markdown",
   "metadata": {},
   "source": [
    "### Task 10: \n",
    "\n",
    "- A student will not be allowed to sit in exam if his/her attendence is less than 75%.\n",
    "    Take following input from user\n",
    "    Number of classes held\n",
    "    Number of classes attended.\n",
    "    And print\n",
    "    percentage of class attended\n",
    "    Is student is allowed to sit in exam or not.\n",
    "\n",
    "- Modify the above question to allow student to sit if he/she has medical cause. Ask user if he/she has medical cause or not ( 'Y' or 'N' ) and print accordingly."
   ]
  },
  {
   "cell_type": "code",
   "execution_count": 16,
   "metadata": {},
   "outputs": [
    {
     "ename": "ValueError",
     "evalue": "invalid literal for int() with base 10: ''",
     "output_type": "error",
     "traceback": [
      "\u001b[1;31m---------------------------------------------------------------------------\u001b[0m",
      "\u001b[1;31mValueError\u001b[0m                                Traceback (most recent call last)",
      "\u001b[1;32mc:\\Users\\ASUS\\Downloads\\A1_Assignment-AIML.ipynb Cell 28\u001b[0m in \u001b[0;36m<cell line: 1>\u001b[1;34m()\u001b[0m\n\u001b[1;32m----> <a href='vscode-notebook-cell:/c%3A/Users/ASUS/Downloads/A1_Assignment-AIML.ipynb#ch0000022?line=0'>1</a>\u001b[0m num_class_held \u001b[39m=\u001b[39m \u001b[39mint\u001b[39;49m(\u001b[39minput\u001b[39;49m(\u001b[39m\"\u001b[39;49m\u001b[39mHeld Classes = \u001b[39;49m\u001b[39m\"\u001b[39;49m))\n\u001b[0;32m      <a href='vscode-notebook-cell:/c%3A/Users/ASUS/Downloads/A1_Assignment-AIML.ipynb#ch0000022?line=2'>3</a>\u001b[0m num_attend_class \u001b[39m=\u001b[39m \u001b[39mint\u001b[39m(\u001b[39minput\u001b[39m(\u001b[39m\"\u001b[39m\u001b[39mAttended Classes = \u001b[39m\u001b[39m\"\u001b[39m))\n\u001b[0;32m      <a href='vscode-notebook-cell:/c%3A/Users/ASUS/Downloads/A1_Assignment-AIML.ipynb#ch0000022?line=4'>5</a>\u001b[0m percent \u001b[39m=\u001b[39m (num_attend_class\u001b[39m/\u001b[39mnum_class_held)\u001b[39m*\u001b[39m\u001b[39m100\u001b[39m\n",
      "\u001b[1;31mValueError\u001b[0m: invalid literal for int() with base 10: ''"
     ]
    }
   ],
   "source": [
    "num_class_held = int(input(\"Held Classes = \"))\n",
    "\n",
    "num_attend_class = int(input(\"Attended Classes = \"))\n",
    "\n",
    "percent = (num_attend_class/num_class_held)*100\n",
    "\n",
    "if percent < 75:\n",
    "\n",
    "   print(\"Student is not allowed to sit in exam.\")\n",
    "\n",
    "else:\n",
    "\n",
    "   print(\"Student is allowed to sit in the exam.\")"
   ]
  },
  {
   "cell_type": "markdown",
   "metadata": {},
   "source": [
    "### Task 11:\n",
    "- Write a program to find prime factor of a number.\n",
    "If a factor of a number is prime number then it is its prime factor.\n",
    "- Write a program to print all prime number in between 1 to 100. "
   ]
  },
  {
   "cell_type": "code",
   "execution_count": 17,
   "metadata": {},
   "outputs": [
    {
     "ename": "ValueError",
     "evalue": "invalid literal for int() with base 10: ''",
     "output_type": "error",
     "traceback": [
      "\u001b[1;31m---------------------------------------------------------------------------\u001b[0m",
      "\u001b[1;31mValueError\u001b[0m                                Traceback (most recent call last)",
      "\u001b[1;32mc:\\Users\\ASUS\\Downloads\\A1_Assignment-AIML.ipynb Cell 30\u001b[0m in \u001b[0;36m<cell line: 26>\u001b[1;34m()\u001b[0m\n\u001b[0;32m     <a href='vscode-notebook-cell:/c%3A/Users/ASUS/Downloads/A1_Assignment-AIML.ipynb#ch0000024?line=20'>21</a>\u001b[0m     \u001b[39mif\u001b[39;00m n \u001b[39m>\u001b[39m \u001b[39m2\u001b[39m:\n\u001b[0;32m     <a href='vscode-notebook-cell:/c%3A/Users/ASUS/Downloads/A1_Assignment-AIML.ipynb#ch0000024?line=21'>22</a>\u001b[0m         \u001b[39mprint\u001b[39m (n)\n\u001b[1;32m---> <a href='vscode-notebook-cell:/c%3A/Users/ASUS/Downloads/A1_Assignment-AIML.ipynb#ch0000024?line=25'>26</a>\u001b[0m n \u001b[39m=\u001b[39m \u001b[39mint\u001b[39;49m(\u001b[39minput\u001b[39;49m(\u001b[39m\"\u001b[39;49m\u001b[39menter the number: \u001b[39;49m\u001b[39m\"\u001b[39;49m))\n\u001b[0;32m     <a href='vscode-notebook-cell:/c%3A/Users/ASUS/Downloads/A1_Assignment-AIML.ipynb#ch0000024?line=26'>27</a>\u001b[0m primeFactors(n)\n",
      "\u001b[1;31mValueError\u001b[0m: invalid literal for int() with base 10: ''"
     ]
    }
   ],
   "source": [
    "import math\n",
    " \n",
    "\n",
    "def primeFactors(n):\n",
    "     \n",
    "    # Print the number of two's that divide n\n",
    "    while n % 2 == 0:\n",
    "        print (2)\n",
    "        n = n / 2\n",
    "         \n",
    "    # n must be odd at this point\n",
    "    # so a skip of 2 ( i = i + 2) can be used\n",
    "    for i in range(3,int(math.sqrt(n))+1,2):\n",
    "         \n",
    "        \n",
    "        while n % i== 0:\n",
    "            print (i),\n",
    "            n = n / i\n",
    "             \n",
    "   \n",
    "    if n > 2:\n",
    "        print (n)\n",
    "         \n",
    "\n",
    " \n",
    "n = int(input(\"enter the number: \"))\n",
    "primeFactors(n)"
   ]
  },
  {
   "cell_type": "code",
   "execution_count": 22,
   "metadata": {},
   "outputs": [
    {
     "name": "stdout",
     "output_type": "stream",
     "text": [
      " 2   3   5   7   11   13   17   19   23   29   31   37   41   43   47   53   59   61   67   71   73   79   83   89   97  "
     ]
    }
   ],
   "source": [
    "for Number in range (1, 101):\n",
    "    count = 0\n",
    "    for i in range(2, (Number//2 + 1)):\n",
    "        if(Number % i == 0):\n",
    "            count = count + 1\n",
    "            break\n",
    "\n",
    "    if (count == 0 and Number != 1):\n",
    "        print(\" %d\" %Number, end = '  ')"
   ]
  },
  {
   "cell_type": "markdown",
   "metadata": {},
   "source": [
    "### Task 12\n",
    "- Write a program to print Fibonacci series up to n terms\n",
    "    - *Hint:* 0, 1, 1, 2, 3, 5, 8, 13, 21... "
   ]
  },
  {
   "cell_type": "code",
   "execution_count": 23,
   "metadata": {},
   "outputs": [
    {
     "ename": "ValueError",
     "evalue": "invalid literal for int() with base 10: ''",
     "output_type": "error",
     "traceback": [
      "\u001b[1;31m---------------------------------------------------------------------------\u001b[0m",
      "\u001b[1;31mValueError\u001b[0m                                Traceback (most recent call last)",
      "\u001b[1;32mc:\\Users\\ASUS\\Downloads\\A1_Assignment-AIML.ipynb Cell 33\u001b[0m in \u001b[0;36m<cell line: 1>\u001b[1;34m()\u001b[0m\n\u001b[1;32m----> <a href='vscode-notebook-cell:/c%3A/Users/ASUS/Downloads/A1_Assignment-AIML.ipynb#ch0000026?line=0'>1</a>\u001b[0m num \u001b[39m=\u001b[39m \u001b[39mint\u001b[39;49m(\u001b[39minput\u001b[39;49m(\u001b[39m\"\u001b[39;49m\u001b[39mEnter the Number:\u001b[39;49m\u001b[39m\"\u001b[39;49m))\n\u001b[0;32m      <a href='vscode-notebook-cell:/c%3A/Users/ASUS/Downloads/A1_Assignment-AIML.ipynb#ch0000026?line=1'>2</a>\u001b[0m n1, n2 \u001b[39m=\u001b[39m \u001b[39m0\u001b[39m, \u001b[39m1\u001b[39m\n\u001b[0;32m      <a href='vscode-notebook-cell:/c%3A/Users/ASUS/Downloads/A1_Assignment-AIML.ipynb#ch0000026?line=2'>3</a>\u001b[0m \u001b[39mprint\u001b[39m(\u001b[39m\"\u001b[39m\u001b[39mFibonacci Series:\u001b[39m\u001b[39m\"\u001b[39m, n1, n2, end\u001b[39m=\u001b[39m\u001b[39m\"\u001b[39m\u001b[39m \u001b[39m\u001b[39m\"\u001b[39m)\n",
      "\u001b[1;31mValueError\u001b[0m: invalid literal for int() with base 10: ''"
     ]
    }
   ],
   "source": [
    "num = int(input(\"Enter the Number:\"))\n",
    "n1, n2 = 0, 1\n",
    "print(\"Fibonacci Series:\", n1, n2, end=\" \")\n",
    "for i in range(2, num):\n",
    "    n3 = n1 + n2\n",
    "    n1 = n2\n",
    "    n2 = n3\n",
    "    print(n3, end=\" \")\n",
    "\n",
    "print()\n",
    "\n"
   ]
  },
  {
   "cell_type": "markdown",
   "metadata": {},
   "source": [
    "### Task 13:\n",
    "Print the following patterns using loop :\n",
    "\n",
    "    a.\n",
    "        *\n",
    "        **\n",
    "        ***\n",
    "        ****\n",
    "    b.\n",
    "          *  \n",
    "         *** \n",
    "        *****\n",
    "         *** \n",
    "          *  \n",
    "    "
   ]
  },
  {
   "cell_type": "code",
   "execution_count": 26,
   "metadata": {},
   "outputs": [
    {
     "name": "stdout",
     "output_type": "stream",
     "text": [
      "* \n",
      "* * \n",
      "* * * \n",
      "* * * * \n"
     ]
    }
   ],
   "source": [
    "def pattern(n):\n",
    "   for i in range(1, n+1):\n",
    "      \n",
    "      print(\"* \" * i)\n",
    "\n",
    "n = 4\n",
    "\n",
    "pattern(n)"
   ]
  },
  {
   "cell_type": "code",
   "execution_count": 30,
   "metadata": {},
   "outputs": [
    {
     "name": "stdout",
     "output_type": "stream",
     "text": [
      "Diamond Star Pattern\n",
      "  *\n",
      " ***\n",
      "*****\n",
      " ***\n",
      "  *\n"
     ]
    }
   ],
   "source": [
    "rows = 3\n",
    "\n",
    "print(\"Diamond Star Pattern\") \n",
    "for i in range(1, rows + 1):\n",
    "    for j in range(1, rows - i + 1):\n",
    "        print(end = ' ')\n",
    "    for k in range(0, 2 * i - 1):\n",
    "        print('*', end = '')\n",
    "    print()\n",
    "\n",
    "for i in range(1, rows):\n",
    "    for j in range(1, i + 1):\n",
    "        print(end = ' ')\n",
    "    for l in range(1, (2 * (rows - i) )):\n",
    "        print('*', end = '')\n",
    "    print()\n",
    " "
   ]
  },
  {
   "cell_type": "markdown",
   "metadata": {},
   "source": [
    "### Task 14:\n",
    "- Create a function that accepts a string and calculate the number of upper case letters and lower case letters"
   ]
  },
  {
   "cell_type": "code",
   "execution_count": 32,
   "metadata": {},
   "outputs": [
    {
     "name": "stdout",
     "output_type": "stream",
     "text": [
      "The number of lowercase characters is:\n",
      "0\n",
      "The number of uppercase characters is:\n",
      "0\n"
     ]
    }
   ],
   "source": [
    "string=input(\"Enter string:\")\n",
    "count1=0\n",
    "count2=0\n",
    "for i in string:\n",
    "      if(i.islower()):\n",
    "            count1=count1+1\n",
    "      elif(i.isupper()):\n",
    "            count2=count2+1\n",
    "print(\"The number of lowercase characters is:\")\n",
    "print(count1)\n",
    "print(\"The number of uppercase characters is:\")\n",
    "print(count2)"
   ]
  },
  {
   "cell_type": "markdown",
   "metadata": {},
   "source": [
    "### Task 15\n",
    "\n",
    "- Write a Python program to convert radian to degree with using math module"
   ]
  },
  {
   "cell_type": "code",
   "execution_count": 33,
   "metadata": {},
   "outputs": [
    {
     "ename": "ValueError",
     "evalue": "could not convert string to float: ''",
     "output_type": "error",
     "traceback": [
      "\u001b[1;31m---------------------------------------------------------------------------\u001b[0m",
      "\u001b[1;31mValueError\u001b[0m                                Traceback (most recent call last)",
      "\u001b[1;32mc:\\Users\\ASUS\\Downloads\\A1_Assignment-AIML.ipynb Cell 40\u001b[0m in \u001b[0;36m<cell line: 2>\u001b[1;34m()\u001b[0m\n\u001b[0;32m      <a href='vscode-notebook-cell:/c%3A/Users/ASUS/Downloads/A1_Assignment-AIML.ipynb#ch0000032?line=0'>1</a>\u001b[0m pi\u001b[39m=\u001b[39m\u001b[39m22\u001b[39m\u001b[39m/\u001b[39m\u001b[39m7\u001b[39m\n\u001b[1;32m----> <a href='vscode-notebook-cell:/c%3A/Users/ASUS/Downloads/A1_Assignment-AIML.ipynb#ch0000032?line=1'>2</a>\u001b[0m radian \u001b[39m=\u001b[39m \u001b[39mfloat\u001b[39;49m(\u001b[39minput\u001b[39;49m(\u001b[39m\"\u001b[39;49m\u001b[39mInput radians: \u001b[39;49m\u001b[39m\"\u001b[39;49m))\n\u001b[0;32m      <a href='vscode-notebook-cell:/c%3A/Users/ASUS/Downloads/A1_Assignment-AIML.ipynb#ch0000032?line=2'>3</a>\u001b[0m degree \u001b[39m=\u001b[39m radian\u001b[39m*\u001b[39m(\u001b[39m180\u001b[39m\u001b[39m/\u001b[39mpi)\n\u001b[0;32m      <a href='vscode-notebook-cell:/c%3A/Users/ASUS/Downloads/A1_Assignment-AIML.ipynb#ch0000032?line=3'>4</a>\u001b[0m \u001b[39mprint\u001b[39m(degree)\n",
      "\u001b[1;31mValueError\u001b[0m: could not convert string to float: ''"
     ]
    }
   ],
   "source": [
    "pi=22/7\n",
    "radian = float(input(\"Input radians: \"))\n",
    "degree = radian*(180/pi)\n",
    "print(degree)"
   ]
  },
  {
   "cell_type": "code",
   "execution_count": null,
   "metadata": {},
   "outputs": [],
   "source": []
  }
 ],
 "metadata": {
  "kernelspec": {
   "display_name": "Python 3.9.12 ('base')",
   "language": "python",
   "name": "python3"
  },
  "language_info": {
   "codemirror_mode": {
    "name": "ipython",
    "version": 3
   },
   "file_extension": ".py",
   "mimetype": "text/x-python",
   "name": "python",
   "nbconvert_exporter": "python",
   "pygments_lexer": "ipython3",
   "version": "3.9.12"
  },
  "vscode": {
   "interpreter": {
    "hash": "a90aeebcf29d64a654773811cc170cb25061cb2498f10ac689db374c7bf325de"
   }
  }
 },
 "nbformat": 4,
 "nbformat_minor": 4
}
